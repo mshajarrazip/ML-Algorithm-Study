{
 "cells": [
  {
   "attachments": {},
   "cell_type": "markdown",
   "metadata": {},
   "source": [
    "# Support Vector Machine\n",
    "\n",
    "Following the notes here: https://towardsdatascience.com/implementing-svm-from-scratch-784e4ad0bc6a"
   ]
  },
  {
   "cell_type": "code",
   "execution_count": 1,
   "metadata": {},
   "outputs": [],
   "source": [
    "import numpy as np\n",
    "import matplotlib.pyplot as plt"
   ]
  },
  {
   "attachments": {},
   "cell_type": "markdown",
   "metadata": {},
   "source": [
    "The main algorithm:\n",
    "1. Basic setup and initialization of weights and biases\n",
    "2. Map the class labels from ${0, 1}$ tp ${-1, 1}$\n",
    "3. Perform gradient descent for $n$ iterations, which involves computation of the gradients and the updating the weights and the biases accordingly.\n",
    "4. Make the final prediction."
   ]
  },
  {
   "cell_type": "code",
   "execution_count": 3,
   "metadata": {},
   "outputs": [],
   "source": [
    "class SVM:\n",
    "    \"\"\"\n",
    "    \n",
    "    Within a single iteration of the gradient descent:\n",
    "    - we have to check if the contraint of the separating hyperplane is satisfied\n",
    "    - compute gradient of the weights and biases\n",
    "    - update parameters accordingly\n",
    "\n",
    "    \"\"\"\n",
    "    def __init__(self, learning_rate=1e-3, lambda_param=1e-2, n_iters=1000):\n",
    "        self.lr = learning_rate\n",
    "        self.lambda_param = lambda_param\n",
    "        self.n_iters = n_iters\n",
    "        self.w = None\n",
    "        self.b = None\n",
    "\n",
    "    def _init_weights_bias(self, X):\n",
    "        n_features = X.shape[1]\n",
    "        self.w = np.zeros(n_features)\n",
    "        self.b = 0\n",
    "\n",
    "    def _get_cls_map(self, y):\n",
    "        # if y=0 then y=-1\n",
    "        return np.where(y <= 0, -1, 1)\n",
    "    \n",
    "\n",
    "    def _satisfy_constraint(self, x, idx):\n",
    "        \"\"\"Check if the contraint of the separating hyperplane is satisfied\"\"\"\n",
    "        linear_model = np.dot(x, self.w) + self.b\n",
    "        return self.cls_map[idx] * linear_model >= 1\n",
    "\n",
    "\n",
    "    def _get_gradients(self, constrain, x, idx):\n",
    "        \n",
    "        # if data point lies on the correct side\n",
    "        if constrain:\n",
    "            dw = self.lambda_param * self.w\n",
    "            db = 0\n",
    "            return dw, db\n",
    "    \n",
    "        # if data point is on the wrong side\n",
    "        dw = self.lambda_param * self.w - np.dot(self.cls_map[idx], x)\n",
    "        db = -self.cls_map[idx]\n",
    "        return dw, db     \n",
    "\n",
    "    def _update_weights_bias(self, dw, db):\n",
    "        self.w -= self.lr * dw\n",
    "        self.b -= self.lr * db\n",
    "\n",
    "    def fit(self, X, y):\n",
    "        # initialize weights and bias\n",
    "        self._init_weights_bias(X)\n",
    "\n",
    "        # map binary class to {-1, 1}\n",
    "        self.cls_map = self._get_cls_map(y)\n",
    "\n",
    "        for _ in range(self.n_iters):\n",
    "            for idx, x in enumerate(X):\n",
    "                # check if the contraint of the separating hyperplane is satisfied\n",
    "                constrain = self._satisfy_constraint(x, idx)\n",
    "\n",
    "                # compute gradient of the weights and biases\n",
    "                dw, db = self._get_gradients(constrain, x, idx)\n",
    "\n",
    "                # update parameters accordingly\n",
    "                self._update_weights_bias(dw, db)\n",
    "\n",
    "\n",
    "    def predict(self, X):\n",
    "        pass\n"
   ]
  },
  {
   "cell_type": "code",
   "execution_count": null,
   "metadata": {},
   "outputs": [],
   "source": []
  }
 ],
 "metadata": {
  "kernelspec": {
   "display_name": ".venv",
   "language": "python",
   "name": "python3"
  },
  "language_info": {
   "codemirror_mode": {
    "name": "ipython",
    "version": 3
   },
   "file_extension": ".py",
   "mimetype": "text/x-python",
   "name": "python",
   "nbconvert_exporter": "python",
   "pygments_lexer": "ipython3",
   "version": "3.10.9"
  },
  "orig_nbformat": 4
 },
 "nbformat": 4,
 "nbformat_minor": 2
}
