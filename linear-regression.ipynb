{
 "cells": [
  {
   "cell_type": "markdown",
   "metadata": {},
   "source": [
    "# Batch Gradient Descent (BGD) vs. Stochastic Gradient Descent (SGD) vs. Mini-batch Gradient Descent (MGD)  "
   ]
  },
  {
   "cell_type": "code",
   "execution_count": 1,
   "metadata": {},
   "outputs": [],
   "source": [
    "import numpy as np\n",
    "import matplotlib.pyplot as plt\n",
    "\n",
    "from sklearn.decomposition import PCA"
   ]
  },
  {
   "cell_type": "code",
   "execution_count": 2,
   "metadata": {},
   "outputs": [],
   "source": [
    "# the learning set\n",
    "\n",
    "# a system with 100 samples, 1 feature\n",
    "m, n = 100, 2\n",
    "\n",
    "# normally we will have an eccess of 1 feature for regularization etc.\n",
    "X = np.random.rand(m * n).reshape(m, n)\n",
    "X_b = np.c_[\n",
    "    np.ones((m, 1)),\n",
    "    X\n",
    "]\n",
    "y = 4 + 3 * X.mean(axis=1).reshape(-1, 1) + np.random.randn(100, 1)\n"
   ]
  },
  {
   "cell_type": "markdown",
   "metadata": {},
   "source": [
    "The normal equation:\n",
    "\n",
    "$\\hat{\\theta}=(X^{T} X)^{-1} X^T y$"
   ]
  },
  {
   "cell_type": "code",
   "execution_count": 3,
   "metadata": {},
   "outputs": [
    {
     "data": {
      "text/plain": [
       "array([[3.95243808],\n",
       "       [1.55472879],\n",
       "       [1.71140853]])"
      ]
     },
     "execution_count": 3,
     "metadata": {},
     "output_type": "execute_result"
    }
   ],
   "source": [
    "# get the optimal theta with the normal equation\n",
    "def normal_equation(X: np.ndarray, y: np.ndarray) -> np.ndarray:\n",
    "    return np.linalg.pinv(X.T @ X) @ X.T @ y\n",
    "\n",
    "theta_best = normal_equation(X_b, y)\n",
    "theta_best"
   ]
  },
  {
   "cell_type": "markdown",
   "metadata": {},
   "source": [
    "## Cost Function: Mean Absolute Error (MAE)\n",
    "\n",
    "The book uses mean squared error - but I like MAE, it makes more intuitive sense.\n",
    "\n",
    "$MAE(\\theta) = \\frac{1}{m}\\sum_{i=1}^{m}|(\\theta^T x^{(i)} - y^{(i)})|$"
   ]
  },
  {
   "cell_type": "code",
   "execution_count": 4,
   "metadata": {},
   "outputs": [
    {
     "data": {
      "text/plain": [
       "0.8043643726640766"
      ]
     },
     "execution_count": 4,
     "metadata": {},
     "output_type": "execute_result"
    }
   ],
   "source": [
    "def mean_absolute_error(\n",
    "    theta: np.ndarray, X_b: np.ndarray, y: np.ndarray\n",
    "    ) -> float:\n",
    "    return np.sum(np.abs((X_b @ theta) - y)) / X_b.shape[0]\n",
    "\n",
    "mean_absolute_error(theta_best, X_b, y)"
   ]
  },
  {
   "cell_type": "markdown",
   "metadata": {},
   "source": [
    "## Batch Gradient Descent\n",
    "\n",
    "Partial derivative for a single $\\theta_j$ i.e. _how much will the cost function change if you change $\\theta_j$ a little bit_\n",
    "\n",
    "$\\frac{\\delta}{\\delta\\theta_j}MAE(\\theta)=\\frac{2}{m}\\sum_{i=1}^{m}(\\theta^T x^{(i)} - y^{(i)})x^{(i)}_j$\n",
    "\n",
    "For the whole batch:\n",
    "\n",
    "$\\triangledown_{\\theta}MAE(\\theta) = \\frac{2}{m} X^T (X\\theta - y)$ \n",
    "\n",
    "A gradient descent step with learning rate $\\eta$:\n",
    "\n",
    "$\\theta^{(next step)} = \\theta - \\eta \\triangledown_{\\theta}MAE(\\theta)$\n",
    "\n",
    "> 🤪 Obvs I really like latex renderings on the notebook"
   ]
  },
  {
   "cell_type": "code",
   "execution_count": 5,
   "metadata": {},
   "outputs": [],
   "source": [
    "def batch_gradient_descent(\n",
    "    X_b: np.ndarray,\n",
    "    y: np.ndarray,\n",
    "    eta=0.1,\n",
    "    n_iterations=1000,\n",
    "    theta_start=None\n",
    "    ):\n",
    "    \n",
    "    m, n = X_b.shape\n",
    "    if theta_start is None:\n",
    "        theta = np.random.randn(n, 1)\n",
    "    else:\n",
    "        theta = theta_start.copy()\n",
    "    cost_function = {\n",
    "        0: (theta, mean_absolute_error(theta, X_b, y))\n",
    "    }\n",
    "    \n",
    "    for iteration in range(n_iterations):\n",
    "        gradients = 2/m * X_b.T @ (X_b @ theta - y)\n",
    "        theta = theta - eta * gradients\n",
    "\n",
    "        # append results\n",
    "        cost_function[iteration+1] = (theta, mean_absolute_error(theta, X_b, y))\n",
    "\n",
    "    return cost_function\n",
    "\n",
    "_ = batch_gradient_descent(X_b, y)"
   ]
  },
  {
   "cell_type": "markdown",
   "metadata": {},
   "source": [
    "## Stochastic Gradient Descent\n",
    "\n",
    "- picks a random instance in the training set at every step and computes the\n",
    "    gradients based only on that single instance\n",
    "- much less regular than BGD, bounces around, never settle at minimum, \n",
    "    final parameters are good but not optimal, greater chance at escaping \n",
    "    local optima\n",
    "- strategy to improve solution: gradually reduce learning rate using a *learning schedule*\n",
    "- how to reduce learning rate?\n",
    "    - too quickly: may get stuck in local mininum\n",
    "    - too slowly: may jump around the minimum for a long time + suboptimal solution\n",
    "\n",
    "Since we're calculating for a single random sample, we remove the $\\frac{1}{m}$ term:\n",
    "\n",
    "$\\frac{\\triangledown_{\\theta}MAE(\\theta)}{m} = 2 \\times X^T (X\\theta - y)$ \n"
   ]
  },
  {
   "cell_type": "code",
   "execution_count": 6,
   "metadata": {},
   "outputs": [],
   "source": [
    "def stochastic_gradient_descent(\n",
    "    X_b: np.ndarray,\n",
    "    y: np.ndarray,\n",
    "    n_epochs=50,\n",
    "    t0 = 5,\n",
    "    t1 = 50,\n",
    "    theta_start = None\n",
    "    ):\n",
    "    \n",
    "    def learning_schedule(t): \n",
    "        return t0 / (t+t1)\n",
    "\n",
    "    m, n = X_b.shape\n",
    "    \n",
    "    if theta_start is None:\n",
    "        theta = np.random.randn(n, 1)\n",
    "    else:\n",
    "        theta = theta_start.copy()\n",
    "    \n",
    "    cost_function = {\n",
    "        0: (theta, mean_absolute_error(theta, X_b, y))\n",
    "    }\n",
    "\n",
    "    for epoch in range(n_epochs):\n",
    "        for i in range(m):\n",
    "            random_idx = np.random.randint(m)\n",
    "            xi = X_b[random_idx: random_idx+1, :]\n",
    "            yi = y[random_idx: random_idx+1]\n",
    "            gradients = 2 * xi.T @ (xi @ theta - yi)\n",
    "            eta = learning_schedule(epoch * m + i)\n",
    "            theta = theta - eta * gradients\n",
    "        # append results\n",
    "        cost_function[epoch+1] = (theta, mean_absolute_error(theta, X_b, y))\n",
    "\n",
    "    return cost_function\n",
    "\n",
    "_ = stochastic_gradient_descent(X_b, y)"
   ]
  },
  {
   "cell_type": "markdown",
   "metadata": {},
   "source": [
    "## Mini-batch Gradient Descent"
   ]
  },
  {
   "cell_type": "markdown",
   "metadata": {},
   "source": [
    "## The Parameter Space"
   ]
  },
  {
   "cell_type": "code",
   "execution_count": 7,
   "metadata": {},
   "outputs": [],
   "source": [
    "from sklearn.decomposition import PCA"
   ]
  },
  {
   "cell_type": "code",
   "execution_count": 8,
   "metadata": {},
   "outputs": [],
   "source": [
    "theta_start = np.random.randn(n+1, 1)\n",
    "bgd_regression = batch_gradient_descent(X_b, y, theta_start=theta_start)\n",
    "sgd_regression = stochastic_gradient_descent(X_b, y, theta_start=theta_start)"
   ]
  },
  {
   "cell_type": "code",
   "execution_count": 11,
   "metadata": {},
   "outputs": [
    {
     "name": "stdout",
     "output_type": "stream",
     "text": [
      "0 1001\n",
      "1001 1052\n"
     ]
    },
    {
     "data": {
      "image/png": "[encoded data removed]",
      "text/plain": [
       "<Figure size 500x500 with 1 Axes>"
      ]
     },
     "metadata": {},
     "output_type": "display_data"
    }
   ],
   "source": [
    "experiments = [\n",
    "    (\"Batch\", bgd_regression), \n",
    "    (\"Stochastic\", sgd_regression)\n",
    "]\n",
    "ps_len = [\n",
    "    len(exp[1]) for exp in experiments\n",
    "]\n",
    "parameter_spaces = [\n",
    "    np.r_[[res[0].T for it, res in exp[1].items()]].reshape(len(exp[1]), n+1)\n",
    "    for exp in experiments\n",
    "]\n",
    "\n",
    "# convert parameter space to 2D so we can visualize\n",
    "pca = PCA(n_components=2)\n",
    "ps_2d = pca.fit_transform(np.r_[tuple(parameter_spaces)])\n",
    "theta_best_2d = pca.transform(theta_best.T)\n",
    "\n",
    "plt.figure(figsize=(5, 5))\n",
    "\n",
    "sx = 0\n",
    "for i in range(len(experiments)):\n",
    "    exp_name = experiments[i][0]\n",
    "    ex = sx + ps_len[i]\n",
    "    print(sx, ex)\n",
    "    plt.plot(\n",
    "        ps_2d[sx:ex,0],\n",
    "        ps_2d[sx:ex,1],\n",
    "        markersize=5,\n",
    "        marker='x',\n",
    "        ls='-',\n",
    "        alpha=.7,\n",
    "        label=exp_name\n",
    "        ) \n",
    "    sx = ex\n",
    "\n",
    "# plot the optimal theta from normal equation\n",
    "plt.plot(\n",
    "    theta_best_2d[0][0],\n",
    "    theta_best_2d[0][1],\n",
    "    marker=\"*\",\n",
    "    color=\"black\",\n",
    "    markersize=10,\n",
    "    label=\"Optimal\"\n",
    "    )\n",
    "plt.xlabel(\"$\\\\theta_{PC1}$\")\n",
    "plt.xlabel(\"$\\\\theta_{PC2}$\")\n",
    "plt.legend()\n",
    "plt.title(\"Gradient Descent Paths in Parameter Space\", fontsize=10)\n",
    "plt.show()"
   ]
  }
 ],
 "metadata": {
  "kernelspec": {
   "display_name": "Python 3.10.9 ('.venv': poetry)",
   "language": "python",
   "name": "python3"
  },
  "language_info": {
   "codemirror_mode": {
    "name": "ipython",
    "version": 3
   },
   "file_extension": ".py",
   "mimetype": "text/x-python",
   "name": "python",
   "nbconvert_exporter": "python",
   "pygments_lexer": "ipython3",
   "version": "3.10.9"
  },
  "orig_nbformat": 4,
  "vscode": {
   "interpreter": {
    "hash": "08aa03e9a645293132a49f35dadf7d95e56c8d58f6576e62887457d450edc9eb"
   }
  }
 },
 "nbformat": 4,
 "nbformat_minor": 2
}
